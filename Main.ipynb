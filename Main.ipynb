{
 "cells": [
  {
   "cell_type": "code",
   "execution_count": 1,
   "id": "87920dcf-b531-4045-b0e6-b64f8dea2773",
   "metadata": {},
   "outputs": [],
   "source": [
    "import numpy as np\n",
    "import pandas as pd\n",
    "import yfinance as yf\n",
    "import matplotlib.pyplot as plt\n",
    "\n",
    "import torch\n",
    "import torch.nn as nn\n",
    "import torch.optim as optim\n",
    "\n",
    "from sklearn.preprocessing import StandardScaler\n",
    "from sklearn.metrics import root_mean_squared_error\n"
   ]
  },
  {
   "cell_type": "code",
   "execution_count": 2,
   "id": "fd24a154-bbea-42f5-8769-2a61ab7c1525",
   "metadata": {},
   "outputs": [],
   "source": [
    "device = torch.device('cuda' if torch.cuda.is_available() else 'cpu')\n"
   ]
  },
  {
   "cell_type": "code",
   "execution_count": 12,
   "id": "b60b2391-4b81-4630-81c1-9a482bb58bb0",
   "metadata": {},
   "outputs": [
    {
     "name": "stdout",
     "output_type": "stream",
     "text": [
      "YF.download() has changed argument auto_adjust default to True\n"
     ]
    },
    {
     "name": "stderr",
     "output_type": "stream",
     "text": [
      "[*********************100%***********************]  1 of 1 completed\n"
     ]
    }
   ],
   "source": [
    "tickerQQQ = 'QQQ'\n",
    "df = yf.download(tickerQQQ, '2020-01-01')                \n",
    "                 "
   ]
  },
  {
   "cell_type": "code",
   "execution_count": 13,
   "id": "799e7e5c-4060-4989-8f12-346725bce83c",
   "metadata": {},
   "outputs": [
    {
     "data": {
      "text/html": [
       "<div>\n",
       "<style scoped>\n",
       "    .dataframe tbody tr th:only-of-type {\n",
       "        vertical-align: middle;\n",
       "    }\n",
       "\n",
       "    .dataframe tbody tr th {\n",
       "        vertical-align: top;\n",
       "    }\n",
       "\n",
       "    .dataframe thead tr th {\n",
       "        text-align: left;\n",
       "    }\n",
       "\n",
       "    .dataframe thead tr:last-of-type th {\n",
       "        text-align: right;\n",
       "    }\n",
       "</style>\n",
       "<table border=\"1\" class=\"dataframe\">\n",
       "  <thead>\n",
       "    <tr>\n",
       "      <th>Price</th>\n",
       "      <th>Close</th>\n",
       "      <th>High</th>\n",
       "      <th>Low</th>\n",
       "      <th>Open</th>\n",
       "      <th>Volume</th>\n",
       "    </tr>\n",
       "    <tr>\n",
       "      <th>Ticker</th>\n",
       "      <th>QQQ</th>\n",
       "      <th>QQQ</th>\n",
       "      <th>QQQ</th>\n",
       "      <th>QQQ</th>\n",
       "      <th>QQQ</th>\n",
       "    </tr>\n",
       "    <tr>\n",
       "      <th>Date</th>\n",
       "      <th></th>\n",
       "      <th></th>\n",
       "      <th></th>\n",
       "      <th></th>\n",
       "      <th></th>\n",
       "    </tr>\n",
       "  </thead>\n",
       "  <tbody>\n",
       "    <tr>\n",
       "      <th>2020-01-02</th>\n",
       "      <td>209.325912</td>\n",
       "      <td>209.325912</td>\n",
       "      <td>207.214827</td>\n",
       "      <td>207.621547</td>\n",
       "      <td>30969400</td>\n",
       "    </tr>\n",
       "    <tr>\n",
       "      <th>2020-01-03</th>\n",
       "      <td>207.408478</td>\n",
       "      <td>208.657701</td>\n",
       "      <td>206.536938</td>\n",
       "      <td>206.556310</td>\n",
       "      <td>27518900</td>\n",
       "    </tr>\n",
       "    <tr>\n",
       "      <th>2020-01-06</th>\n",
       "      <td>208.744873</td>\n",
       "      <td>208.773923</td>\n",
       "      <td>205.529846</td>\n",
       "      <td>205.781620</td>\n",
       "      <td>21655300</td>\n",
       "    </tr>\n",
       "    <tr>\n",
       "      <th>2020-01-07</th>\n",
       "      <td>208.715790</td>\n",
       "      <td>209.306505</td>\n",
       "      <td>208.057296</td>\n",
       "      <td>208.822313</td>\n",
       "      <td>22139300</td>\n",
       "    </tr>\n",
       "    <tr>\n",
       "      <th>2020-01-08</th>\n",
       "      <td>210.284576</td>\n",
       "      <td>211.243282</td>\n",
       "      <td>208.357502</td>\n",
       "      <td>208.686749</td>\n",
       "      <td>26397300</td>\n",
       "    </tr>\n",
       "    <tr>\n",
       "      <th>...</th>\n",
       "      <td>...</td>\n",
       "      <td>...</td>\n",
       "      <td>...</td>\n",
       "      <td>...</td>\n",
       "      <td>...</td>\n",
       "    </tr>\n",
       "    <tr>\n",
       "      <th>2025-04-21</th>\n",
       "      <td>433.109985</td>\n",
       "      <td>439.079987</td>\n",
       "      <td>427.929993</td>\n",
       "      <td>438.230011</td>\n",
       "      <td>44149300</td>\n",
       "    </tr>\n",
       "    <tr>\n",
       "      <th>2025-04-22</th>\n",
       "      <td>444.480011</td>\n",
       "      <td>447.579987</td>\n",
       "      <td>437.619995</td>\n",
       "      <td>438.820007</td>\n",
       "      <td>52304400</td>\n",
       "    </tr>\n",
       "    <tr>\n",
       "      <th>2025-04-23</th>\n",
       "      <td>454.559998</td>\n",
       "      <td>463.380005</td>\n",
       "      <td>452.880005</td>\n",
       "      <td>458.170013</td>\n",
       "      <td>55801100</td>\n",
       "    </tr>\n",
       "    <tr>\n",
       "      <th>2025-04-24</th>\n",
       "      <td>467.350006</td>\n",
       "      <td>467.660004</td>\n",
       "      <td>455.829987</td>\n",
       "      <td>456.480011</td>\n",
       "      <td>45956100</td>\n",
       "    </tr>\n",
       "    <tr>\n",
       "      <th>2025-04-25</th>\n",
       "      <td>472.559998</td>\n",
       "      <td>473.089996</td>\n",
       "      <td>465.390015</td>\n",
       "      <td>466.970001</td>\n",
       "      <td>38632900</td>\n",
       "    </tr>\n",
       "  </tbody>\n",
       "</table>\n",
       "<p>1336 rows × 5 columns</p>\n",
       "</div>"
      ],
      "text/plain": [
       "Price            Close        High         Low        Open    Volume\n",
       "Ticker             QQQ         QQQ         QQQ         QQQ       QQQ\n",
       "Date                                                                \n",
       "2020-01-02  209.325912  209.325912  207.214827  207.621547  30969400\n",
       "2020-01-03  207.408478  208.657701  206.536938  206.556310  27518900\n",
       "2020-01-06  208.744873  208.773923  205.529846  205.781620  21655300\n",
       "2020-01-07  208.715790  209.306505  208.057296  208.822313  22139300\n",
       "2020-01-08  210.284576  211.243282  208.357502  208.686749  26397300\n",
       "...                ...         ...         ...         ...       ...\n",
       "2025-04-21  433.109985  439.079987  427.929993  438.230011  44149300\n",
       "2025-04-22  444.480011  447.579987  437.619995  438.820007  52304400\n",
       "2025-04-23  454.559998  463.380005  452.880005  458.170013  55801100\n",
       "2025-04-24  467.350006  467.660004  455.829987  456.480011  45956100\n",
       "2025-04-25  472.559998  473.089996  465.390015  466.970001  38632900\n",
       "\n",
       "[1336 rows x 5 columns]"
      ]
     },
     "execution_count": 13,
     "metadata": {},
     "output_type": "execute_result"
    }
   ],
   "source": [
    "df"
   ]
  },
  {
   "cell_type": "code",
   "execution_count": 20,
   "id": "bcdc0e2e-76de-4ae2-a894-e72dfbfe288a",
   "metadata": {},
   "outputs": [
    {
     "data": {
      "text/plain": [
       "<Axes: xlabel='Date'>"
      ]
     },
     "execution_count": 20,
     "metadata": {},
     "output_type": "execute_result"
    },
    {
     "data": {
      "image/png": "[encoded data removed]",
      "text/plain": [
       "<Figure size 1200x800 with 1 Axes>"
      ]
     },
     "metadata": {},
     "output_type": "display_data"
    }
   ],
   "source": [
    "df.Close.plot(figsize=(12,8))"
   ]
  },
  {
   "cell_type": "code",
   "execution_count": 18,
   "id": "47b949d6-0792-4ca3-b31f-f43fd79c5760",
   "metadata": {},
   "outputs": [],
   "source": [
    "scaler = StandardScaler()\n",
    "df['Close'] = scaler.fit_transform(df['Close'])"
   ]
  },
  {
   "cell_type": "code",
   "execution_count": 19,
   "id": "f27fbd29-5ddd-4529-9635-c3a97d36c98e",
   "metadata": {
    "scrolled": true
   },
   "outputs": [
    {
     "data": {
      "text/html": [
       "<div>\n",
       "<style scoped>\n",
       "    .dataframe tbody tr th:only-of-type {\n",
       "        vertical-align: middle;\n",
       "    }\n",
       "\n",
       "    .dataframe tbody tr th {\n",
       "        vertical-align: top;\n",
       "    }\n",
       "\n",
       "    .dataframe thead th {\n",
       "        text-align: right;\n",
       "    }\n",
       "</style>\n",
       "<table border=\"1\" class=\"dataframe\">\n",
       "  <thead>\n",
       "    <tr style=\"text-align: right;\">\n",
       "      <th>Ticker</th>\n",
       "      <th>QQQ</th>\n",
       "    </tr>\n",
       "    <tr>\n",
       "      <th>Date</th>\n",
       "      <th></th>\n",
       "    </tr>\n",
       "  </thead>\n",
       "  <tbody>\n",
       "    <tr>\n",
       "      <th>2020-01-02</th>\n",
       "      <td>-1.631681</td>\n",
       "    </tr>\n",
       "    <tr>\n",
       "      <th>2020-01-03</th>\n",
       "      <td>-1.654179</td>\n",
       "    </tr>\n",
       "    <tr>\n",
       "      <th>2020-01-06</th>\n",
       "      <td>-1.638499</td>\n",
       "    </tr>\n",
       "    <tr>\n",
       "      <th>2020-01-07</th>\n",
       "      <td>-1.638840</td>\n",
       "    </tr>\n",
       "    <tr>\n",
       "      <th>2020-01-08</th>\n",
       "      <td>-1.620433</td>\n",
       "    </tr>\n",
       "    <tr>\n",
       "      <th>...</th>\n",
       "      <td>...</td>\n",
       "    </tr>\n",
       "    <tr>\n",
       "      <th>2025-04-21</th>\n",
       "      <td>0.994042</td>\n",
       "    </tr>\n",
       "    <tr>\n",
       "      <th>2025-04-22</th>\n",
       "      <td>1.127450</td>\n",
       "    </tr>\n",
       "    <tr>\n",
       "      <th>2025-04-23</th>\n",
       "      <td>1.245721</td>\n",
       "    </tr>\n",
       "    <tr>\n",
       "      <th>2025-04-24</th>\n",
       "      <td>1.395790</td>\n",
       "    </tr>\n",
       "    <tr>\n",
       "      <th>2025-04-25</th>\n",
       "      <td>1.456920</td>\n",
       "    </tr>\n",
       "  </tbody>\n",
       "</table>\n",
       "<p>1336 rows × 1 columns</p>\n",
       "</div>"
      ],
      "text/plain": [
       "Ticker           QQQ\n",
       "Date                \n",
       "2020-01-02 -1.631681\n",
       "2020-01-03 -1.654179\n",
       "2020-01-06 -1.638499\n",
       "2020-01-07 -1.638840\n",
       "2020-01-08 -1.620433\n",
       "...              ...\n",
       "2025-04-21  0.994042\n",
       "2025-04-22  1.127450\n",
       "2025-04-23  1.245721\n",
       "2025-04-24  1.395790\n",
       "2025-04-25  1.456920\n",
       "\n",
       "[1336 rows x 1 columns]"
      ]
     },
     "execution_count": 19,
     "metadata": {},
     "output_type": "execute_result"
    }
   ],
   "source": [
    "df.Close"
   ]
  },
  {
   "cell_type": "code",
   "execution_count": null,
   "id": "b7542e18-838a-476d-9181-7cca1f893c83",
   "metadata": {},
   "outputs": [],
   "source": [
    "seq_length = 31\n",
    "data = []\n",
    "\n",
    "for i in range(len(df) - seq_length:\n",
    "    data.append(fd.Close[i:i+seq_length])\n",
    "    "
   ]
  }
 ],
 "metadata": {
  "kernelspec": {
   "display_name": "Python 3 (ipykernel)",
   "language": "python",
   "name": "python3"
  },
  "language_info": {
   "codemirror_mode": {
    "name": "ipython",
    "version": 3
   },
   "file_extension": ".py",
   "mimetype": "text/x-python",
   "name": "python",
   "nbconvert_exporter": "python",
   "pygments_lexer": "ipython3",
   "version": "3.12.0"
  }
 },
 "nbformat": 4,
 "nbformat_minor": 5
}
